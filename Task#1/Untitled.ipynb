{
 "cells": [
  {
   "cell_type": "code",
   "execution_count": 22,
   "id": "e579dec6-563d-41f0-a1dd-0b33140eb93c",
   "metadata": {},
   "outputs": [],
   "source": [
    "import pandas as pd\n",
    "import numpy as np\n",
    "from tensorflow.keras.callbacks import EarlyStopping\n",
    "\n",
    "from sklearn.model_selection import train_test_split\n",
    "from sklearn.preprocessing import StandardScaler\n",
    "from tensorflow.keras.models import Sequential\n",
    "from tensorflow.keras.layers import Dense, Dropout\n",
    "from tensorflow.keras.optimizers import Adam\n",
    "import pickle\n"
   ]
  },
  {
   "cell_type": "code",
   "execution_count": 17,
   "id": "372fb5a3-b398-4d3d-90ad-f36236fc6b84",
   "metadata": {},
   "outputs": [
    {
     "name": "stderr",
     "output_type": "stream",
     "text": [
      "C:\\Users\\Administrator\\AppData\\Local\\Temp\\ipykernel_4104\\1150284888.py:4: FutureWarning: Downcasting behavior in `replace` is deprecated and will be removed in a future version. To retain the old behavior, explicitly call `result.infer_objects(copy=False)`. To opt-in to the future behavior, set `pd.set_option('future.no_silent_downcasting', True)`\n",
      "  df[binary_columns] = df[binary_columns].replace({'yes': 1, 'no': 0})\n",
      "C:\\Users\\Administrator\\AppData\\Local\\Temp\\ipykernel_4104\\1150284888.py:5: FutureWarning: Downcasting behavior in `replace` is deprecated and will be removed in a future version. To retain the old behavior, explicitly call `result.infer_objects(copy=False)`. To opt-in to the future behavior, set `pd.set_option('future.no_silent_downcasting', True)`\n",
      "  df['furnishingstatus'] = df['furnishingstatus'].replace({'unfurnished': 0, 'semi-furnished': 1, 'furnished': 2})\n"
     ]
    }
   ],
   "source": [
    "df = pd.read_csv('Housing.csv')\n",
    "\n",
    "binary_columns = ['airconditioning', 'prefarea']\n",
    "df[binary_columns] = df[binary_columns].replace({'yes': 1, 'no': 0})\n",
    "df['furnishingstatus'] = df['furnishingstatus'].replace({'unfurnished': 0, 'semi-furnished': 1, 'furnished': 2})"
   ]
  },
  {
   "cell_type": "code",
   "execution_count": 18,
   "id": "0d140f60-f682-4338-9d0f-6bd018c4b837",
   "metadata": {},
   "outputs": [],
   "source": [
    "features = ['area', 'bathrooms', 'airconditioning', 'bedrooms', 'stories', 'parking', 'prefarea', 'furnishingstatus']\n",
    "X = df[features]\n",
    "y = df['price']"
   ]
  },
  {
   "cell_type": "code",
   "execution_count": 19,
   "id": "c9573482-72cf-4c76-98d3-40896e100f55",
   "metadata": {},
   "outputs": [
    {
     "data": {
      "text/plain": [
       "(     area  bathrooms  airconditioning  bedrooms  stories  parking  prefarea  \\\n",
       " 0    7420          2                1         4        3        2         1   \n",
       " 1    8960          4                1         4        4        3         0   \n",
       " 2    9960          2                0         3        2        2         1   \n",
       " 3    7500          2                1         4        2        3         1   \n",
       " 4    7420          1                1         4        2        2         0   \n",
       " ..    ...        ...              ...       ...      ...      ...       ...   \n",
       " 540  3000          1                0         2        1        2         0   \n",
       " 541  2400          1                0         3        1        0         0   \n",
       " 542  3620          1                0         2        1        0         0   \n",
       " 543  2910          1                0         3        1        0         0   \n",
       " 544  3850          1                0         3        2        0         0   \n",
       " \n",
       "      furnishingstatus  \n",
       " 0                   2  \n",
       " 1                   2  \n",
       " 2                   1  \n",
       " 3                   2  \n",
       " 4                   2  \n",
       " ..                ...  \n",
       " 540                 0  \n",
       " 541                 1  \n",
       " 542                 0  \n",
       " 543                 2  \n",
       " 544                 0  \n",
       " \n",
       " [545 rows x 8 columns],\n",
       " 0      13300000\n",
       " 1      12250000\n",
       " 2      12250000\n",
       " 3      12215000\n",
       " 4      11410000\n",
       "          ...   \n",
       " 540     1820000\n",
       " 541     1767150\n",
       " 542     1750000\n",
       " 543     1750000\n",
       " 544     1750000\n",
       " Name: price, Length: 545, dtype: int64)"
      ]
     },
     "execution_count": 19,
     "metadata": {},
     "output_type": "execute_result"
    }
   ],
   "source": [
    "X,y"
   ]
  },
  {
   "cell_type": "code",
   "execution_count": 11,
   "id": "01320140-3a6c-484a-8e95-4e94c02f6dbb",
   "metadata": {},
   "outputs": [],
   "source": [
    "X_train, X_temp, y_train, y_temp = train_test_split(X, y, test_size=0.4, random_state=42)\n",
    "X_val, X_test, y_val, y_test = train_test_split(X_temp, y_temp, test_size=0.5, random_state=42)\n",
    "\n",
    "# Feature scaling (Standardization: mean=0, std=1)\n",
    "scaler = StandardScaler()\n",
    "X_train = scaler.fit_transform(X_train)\n",
    "X_val = scaler.transform(X_val)\n",
    "X_test = scaler.transform(X_test)"
   ]
  },
  {
   "cell_type": "code",
   "execution_count": 12,
   "id": "fa3e2535-d613-4145-93ef-610e159f3cbb",
   "metadata": {},
   "outputs": [
    {
     "name": "stdout",
     "output_type": "stream",
     "text": [
      "Validation MSE: 1567212451189.4426\n",
      "Validation R2 Score: 0.6590200755256925\n",
      "Test MSE: 1619489264636.9622\n",
      "Test R2 Score: 0.6512104787271864\n"
     ]
    }
   ],
   "source": [
    "from sklearn.linear_model import LinearRegression\n",
    "from sklearn.metrics import mean_squared_error, r2_score\n",
    "\n",
    "# Initialize the Linear Regression model\n",
    "model = LinearRegression()\n",
    "\n",
    "# Train the model on the training data\n",
    "model.fit(X_train, y_train)\n",
    "\n",
    "# Predict on the validation set\n",
    "y_val_pred = model.predict(X_val)\n",
    "\n",
    "# Predict on the test set\n",
    "y_test_pred = model.predict(X_test)\n",
    "\n",
    "# Evaluate the model\n",
    "val_mse = mean_squared_error(y_val, y_val_pred)\n",
    "test_mse = mean_squared_error(y_test, y_test_pred)\n",
    "\n",
    "val_r2 = r2_score(y_val, y_val_pred)\n",
    "test_r2 = r2_score(y_test, y_test_pred)\n",
    "\n",
    "# Print the results\n",
    "print(f\"Validation MSE: {val_mse}\")\n",
    "print(f\"Validation R2 Score: {val_r2}\")\n",
    "\n",
    "print(f\"Test MSE: {test_mse}\")\n",
    "print(f\"Test R2 Score: {test_r2}\")\n"
   ]
  },
  {
   "cell_type": "code",
   "execution_count": 14,
   "id": "3489284b-25b0-42a9-89ca-e5e264246217",
   "metadata": {},
   "outputs": [],
   "source": [
    "from sklearn.linear_model import Ridge, Lasso\n",
    "\n",
    "# Ridge or Lasso Regression\n",
    "ridge_model = Ridge(alpha=1.0)\n",
    "lasso_model = Lasso(alpha=1.0)\n",
    "\n",
    "# Train Ridge model\n",
    "ridge_model.fit(X_train, y_train)\n",
    "ridge_val_pred = ridge_model.predict(X_val)\n",
    "ridge_test_pred = ridge_model.predict(X_test)\n",
    "\n",
    "# Train Lasso model\n",
    "lasso_model.fit(X_train, y_train)\n",
    "lasso_val_pred = lasso_model.predict(X_val)\n",
    "lasso_test_pred = lasso_model.predict(X_test)\n"
   ]
  },
  {
   "cell_type": "code",
   "execution_count": 15,
   "id": "14d72801-8117-4908-8562-944737934107",
   "metadata": {},
   "outputs": [
    {
     "name": "stdout",
     "output_type": "stream",
     "text": [
      "Ridge - Validation MSE: 1568851087556.886\n",
      "Ridge - Validation R2 Score: 0.6586635558308754\n",
      "Ridge - Test MSE: 1620476504084.2915\n",
      "Ridge - Test R2 Score: 0.6509978568952702\n",
      "Lasso - Validation MSE: 1567214055549.7646\n",
      "Lasso - Validation R2 Score: 0.6590197264634701\n",
      "Lasso - Test MSE: 1619490302044.7207\n",
      "Lasso - Test R2 Score: 0.6512102553006016\n"
     ]
    }
   ],
   "source": [
    "# Evaluate Ridge model\n",
    "ridge_val_mse = mean_squared_error(y_val, ridge_val_pred)\n",
    "ridge_test_mse = mean_squared_error(y_test, ridge_test_pred)\n",
    "\n",
    "ridge_val_r2 = r2_score(y_val, ridge_val_pred)\n",
    "ridge_test_r2 = r2_score(y_test, ridge_test_pred)\n",
    "\n",
    "# Evaluate Lasso model\n",
    "lasso_val_mse = mean_squared_error(y_val, lasso_val_pred)\n",
    "lasso_test_mse = mean_squared_error(y_test, lasso_test_pred)\n",
    "\n",
    "lasso_val_r2 = r2_score(y_val, lasso_val_pred)\n",
    "lasso_test_r2 = r2_score(y_test, lasso_test_pred)\n",
    "\n",
    "# Print the results for Ridge\n",
    "print(f\"Ridge - Validation MSE: {ridge_val_mse}\")\n",
    "print(f\"Ridge - Validation R2 Score: {ridge_val_r2}\")\n",
    "print(f\"Ridge - Test MSE: {ridge_test_mse}\")\n",
    "print(f\"Ridge - Test R2 Score: {ridge_test_r2}\")\n",
    "\n",
    "# Print the results for Lasso\n",
    "print(f\"Lasso - Validation MSE: {lasso_val_mse}\")\n",
    "print(f\"Lasso - Validation R2 Score: {lasso_val_r2}\")\n",
    "print(f\"Lasso - Test MSE: {lasso_test_mse}\")\n",
    "print(f\"Lasso - Test R2 Score: {lasso_test_r2}\")"
   ]
  },
  {
   "cell_type": "code",
   "execution_count": 21,
   "id": "05012ba2-7234-45dd-8faf-1cfb06a6d8c4",
   "metadata": {},
   "outputs": [
    {
     "name": "stderr",
     "output_type": "stream",
     "text": [
      "C:\\Users\\Administrator\\AppData\\Local\\Programs\\Python\\Python312\\Lib\\site-packages\\sklearn\\utils\\extmath.py:1137: RuntimeWarning: invalid value encountered in divide\n",
      "  updated_mean = (last_sum + new_sum) / updated_sample_count\n",
      "C:\\Users\\Administrator\\AppData\\Local\\Programs\\Python\\Python312\\Lib\\site-packages\\sklearn\\utils\\extmath.py:1142: RuntimeWarning: invalid value encountered in divide\n",
      "  T = new_sum / new_sample_count\n",
      "C:\\Users\\Administrator\\AppData\\Local\\Programs\\Python\\Python312\\Lib\\site-packages\\sklearn\\utils\\extmath.py:1162: RuntimeWarning: invalid value encountered in divide\n",
      "  new_unnormalized_variance -= correction**2 / new_sample_count\n"
     ]
    }
   ],
   "source": [
    "import numpy as np\n",
    "import pandas as pd\n",
    "\n",
    "# Convert 'yes'/'no' to binary (0 and 1)\n",
    "df['mainroad'] = df['mainroad'].map({'yes': 1, 'no': 0})\n",
    "df['guestroom'] = df['guestroom'].map({'yes': 1, 'no': 0})\n",
    "df['basement'] = df['basement'].map({'yes': 1, 'no': 0})\n",
    "df['hotwaterheating'] = df['hotwaterheating'].map({'yes': 1, 'no': 0})\n",
    "df['airconditioning'] = df['airconditioning'].map({'yes': 1, 'no': 0})\n",
    "df['prefarea'] = df['prefarea'].map({'yes': 1, 'no': 0})\n",
    "\n",
    "# Convert 'furnishingstatus' to numeric (unfurnished=0, semi-furnished=1, furnished=2)\n",
    "df['furnishingstatus'] = df['furnishingstatus'].map({'unfurnished': 0, 'semi-furnished': 1, 'furnished': 2})\n",
    "\n",
    "\n",
    "# Create new interaction features\n",
    "df['area_bedrooms'] = df['area'] * df['bedrooms']\n",
    "df['area_bathrooms'] = df['area'] * df['bathrooms']\n",
    "df['bed_bath'] = df['bedrooms'] * df['bathrooms']\n",
    "df['guest_ac'] = df['guestroom'] * df['airconditioning']\n",
    "\n",
    "# Split the data again\n",
    "X = df[['area', 'bedrooms', 'bathrooms', 'stories', 'mainroad', 'guestroom', \n",
    "        'airconditioning', 'parking', 'prefarea', 'furnishingstatus', \n",
    "        'area_bedrooms', 'area_bathrooms', 'bed_bath', 'guest_ac']]\n",
    "y = df['price']\n",
    "\n",
    "# Train/Validation/Test split\n",
    "X_train, X_temp, y_train, y_temp = train_test_split(X, y, test_size=0.4, random_state=42)\n",
    "X_val, X_test, y_val, y_test = train_test_split(X_temp, y_temp, test_size=0.5, random_state=42)\n",
    "\n",
    "# Feature scaling\n",
    "scaler = StandardScaler()\n",
    "X_train = scaler.fit_transform(X_train)\n",
    "X_val = scaler.transform(X_val)\n",
    "X_test = scaler.transform(X_test)\n"
   ]
  },
  {
   "cell_type": "code",
   "execution_count": null,
   "id": "ac90bd64-265d-4dee-ba64-273310b7f596",
   "metadata": {},
   "outputs": [],
   "source": []
  }
 ],
 "metadata": {
  "kernelspec": {
   "display_name": "Python 3 (ipykernel)",
   "language": "python",
   "name": "python3"
  },
  "language_info": {
   "codemirror_mode": {
    "name": "ipython",
    "version": 3
   },
   "file_extension": ".py",
   "mimetype": "text/x-python",
   "name": "python",
   "nbconvert_exporter": "python",
   "pygments_lexer": "ipython3",
   "version": "3.12.3"
  }
 },
 "nbformat": 4,
 "nbformat_minor": 5
}
